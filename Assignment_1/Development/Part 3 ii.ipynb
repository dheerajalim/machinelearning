{
 "cells": [
  {
   "cell_type": "code",
   "execution_count": 186,
   "metadata": {},
   "outputs": [],
   "source": [
    "import pandas as pd\n",
    "import numpy as np\n",
    "from sklearn.feature_selection import SelectKBest\n",
    "from sklearn.feature_selection import chi2"
   ]
  },
  {
   "cell_type": "code",
   "execution_count": 187,
   "metadata": {},
   "outputs": [],
   "source": [
    "train_dataset  = np.genfromtxt('trainingData_classification.csv', delimiter = ',')\n",
    "train_data  = np.delete(train_dataset,10,axis = 1)\n",
    "train_class = train_dataset[:,10]\n",
    "test_dataset  = np.genfromtxt('testData_classification.csv', delimiter = ',')\n",
    "test_data  = np.delete(test_dataset,10,axis = 1)\n",
    "test_class = test_dataset[:,10]"
   ]
  },
  {
   "cell_type": "code",
   "execution_count": 218,
   "metadata": {},
   "outputs": [],
   "source": [
    "selector = SelectKBest(chi2, k=8)"
   ]
  },
  {
   "cell_type": "code",
   "execution_count": null,
   "metadata": {},
   "outputs": [],
   "source": []
  },
  {
   "cell_type": "code",
   "execution_count": null,
   "metadata": {},
   "outputs": [],
   "source": []
  },
  {
   "cell_type": "code",
   "execution_count": null,
   "metadata": {},
   "outputs": [],
   "source": []
  },
  {
   "cell_type": "code",
   "execution_count": 219,
   "metadata": {},
   "outputs": [],
   "source": [
    "train_data_new = selector.fit_transform(X, y)"
   ]
  },
  {
   "cell_type": "code",
   "execution_count": 220,
   "metadata": {},
   "outputs": [
    {
     "data": {
      "text/plain": [
       "array([[0.5301304 , 0.62645837, 0.44524917, ..., 0.40806674, 0.46013734,\n",
       "        0.61033772],\n",
       "       [0.43333892, 0.46062429, 0.56937923, ..., 0.6451305 , 0.33103777,\n",
       "        0.35859095],\n",
       "       [0.60879428, 0.72451976, 0.2661216 , ..., 0.38850336, 0.41685737,\n",
       "        0.57226228],\n",
       "       ...,\n",
       "       [0.43723375, 0.5618769 , 0.56685036, ..., 0.37932588, 0.4918483 ,\n",
       "        0.4908792 ],\n",
       "       [0.62399617, 0.35529236, 0.49406175, ..., 0.46282374, 0.42130978,\n",
       "        0.46383661],\n",
       "       [0.37743885, 0.39775421, 0.52465763, ..., 0.53548199, 0.38003063,\n",
       "        0.40968938]])"
      ]
     },
     "execution_count": 220,
     "metadata": {},
     "output_type": "execute_result"
    }
   ],
   "source": [
    "train_data_new"
   ]
  },
  {
   "cell_type": "code",
   "execution_count": 221,
   "metadata": {},
   "outputs": [],
   "source": [
    "t = [i for i in range(0,len(test_data[0]))]"
   ]
  },
  {
   "cell_type": "code",
   "execution_count": 222,
   "metadata": {},
   "outputs": [
    {
     "data": {
      "text/plain": [
       "[0, 1, 2, 3, 4, 5, 6, 7, 8, 9]"
      ]
     },
     "execution_count": 222,
     "metadata": {},
     "output_type": "execute_result"
    }
   ],
   "source": [
    "t"
   ]
  },
  {
   "cell_type": "code",
   "execution_count": null,
   "metadata": {},
   "outputs": [],
   "source": []
  },
  {
   "cell_type": "code",
   "execution_count": 223,
   "metadata": {},
   "outputs": [],
   "source": [
    "feature_names = [0,1,2,3,4,5,6,7,8,9]"
   ]
  },
  {
   "cell_type": "code",
   "execution_count": 224,
   "metadata": {},
   "outputs": [],
   "source": [
    "mask = selector.get_support() #list of booleans\n",
    "new_features = [] # The list of your K best features\n",
    "\n",
    "for bool, feature in zip(mask, feature_names):\n",
    "    if bool:\n",
    "        new_features.append(feature)"
   ]
  },
  {
   "cell_type": "code",
   "execution_count": 225,
   "metadata": {},
   "outputs": [
    {
     "data": {
      "text/plain": [
       "[0, 1, 2, 5, 6, 7, 8, 9]"
      ]
     },
     "execution_count": 225,
     "metadata": {},
     "output_type": "execute_result"
    }
   ],
   "source": [
    "new_features"
   ]
  },
  {
   "cell_type": "code",
   "execution_count": 226,
   "metadata": {},
   "outputs": [],
   "source": [
    "test_data_new = test_data[:,new_features]"
   ]
  },
  {
   "cell_type": "code",
   "execution_count": 227,
   "metadata": {},
   "outputs": [],
   "source": [
    "def calculateDistances(query_instance, feature_list):\n",
    "    feature_difference = feature_list - query_instance\n",
    "    euclidena_distance = np.sqrt(np.sum(np.square(feature_difference),axis=1))\n",
    "    sorted_distance_index = np.argsort(euclidena_distance)\n",
    "    return euclidena_distance, sorted_distance_index"
   ]
  },
  {
   "cell_type": "code",
   "execution_count": 228,
   "metadata": {},
   "outputs": [],
   "source": [
    "results = np.apply_along_axis(calculateDistances,1, test_data_new,train_data_new)\n",
    "sorted_indicies = results[:,1].astype('int32') "
   ]
  },
  {
   "cell_type": "code",
   "execution_count": 229,
   "metadata": {},
   "outputs": [],
   "source": [
    "k =1"
   ]
  },
  {
   "cell_type": "code",
   "execution_count": 230,
   "metadata": {},
   "outputs": [],
   "source": [
    "def knn_vote(prediction):\n",
    "    return np.bincount(prediction).argmax()"
   ]
  },
  {
   "cell_type": "code",
   "execution_count": null,
   "metadata": {},
   "outputs": [],
   "source": []
  },
  {
   "cell_type": "code",
   "execution_count": 231,
   "metadata": {},
   "outputs": [
    {
     "name": "stdout",
     "output_type": "stream",
     "text": [
      "The model has an accuracy of 84.89999999999999 %\n"
     ]
    }
   ],
   "source": [
    "# Contains all the indicies representing the minimum euclidena distance\n",
    "minimum_dist = sorted_indicies[:,:k]\n",
    "\n",
    "# Numpy array to store the classes predicted for the test data\n",
    "prediction = train_class[minimum_dist].astype('int32') \n",
    "\n",
    "# Finding the mode of the classes in K neighbours\n",
    "find_res = np.apply_along_axis(knn_vote,1, prediction)\n",
    "\n",
    "# Calculating the count of correct predictions\n",
    "correct_prediction = np.count_nonzero(test_class == find_res)\n",
    "\n",
    "# The percentage of correct prediction\n",
    "percentage =( correct_prediction/len(test_dataset) ) *100\n",
    "\n",
    "print(f'The model has an accuracy of {percentage} %')"
   ]
  },
  {
   "cell_type": "code",
   "execution_count": null,
   "metadata": {},
   "outputs": [],
   "source": []
  },
  {
   "cell_type": "code",
   "execution_count": null,
   "metadata": {},
   "outputs": [],
   "source": []
  },
  {
   "cell_type": "code",
   "execution_count": null,
   "metadata": {},
   "outputs": [],
   "source": []
  },
  {
   "cell_type": "code",
   "execution_count": null,
   "metadata": {},
   "outputs": [],
   "source": []
  },
  {
   "cell_type": "code",
   "execution_count": null,
   "metadata": {},
   "outputs": [],
   "source": []
  },
  {
   "cell_type": "code",
   "execution_count": null,
   "metadata": {},
   "outputs": [],
   "source": []
  }
 ],
 "metadata": {
  "kernelspec": {
   "display_name": "Python 3",
   "language": "python",
   "name": "python3"
  },
  "language_info": {
   "codemirror_mode": {
    "name": "ipython",
    "version": 3
   },
   "file_extension": ".py",
   "mimetype": "text/x-python",
   "name": "python",
   "nbconvert_exporter": "python",
   "pygments_lexer": "ipython3",
   "version": "3.6.8"
  }
 },
 "nbformat": 4,
 "nbformat_minor": 2
}
