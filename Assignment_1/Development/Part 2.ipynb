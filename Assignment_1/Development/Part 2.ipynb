{
 "cells": [
  {
   "cell_type": "markdown",
   "metadata": {},
   "source": [
    "You should use the training and test file from the classification folder in data.zip for Part 2.<br>\n",
    "\n",
    "The objective of this section is to investigate the performance of a k-NN and a distance weighted variant and to write a report documenting your findings.\n",
    "<br>\n",
    "\n",
    "#### (a) You should implement a distance-weighted variant of the k-NN algorithm you developed in part 1. In your report include the performance achieved by the distance-weighted k-NN for k=10.\n"
   ]
  },
  {
   "cell_type": "code",
   "execution_count": 546,
   "metadata": {},
   "outputs": [],
   "source": [
    "import numpy as np\n",
    "import math"
   ]
  },
  {
   "cell_type": "code",
   "execution_count": 547,
   "metadata": {},
   "outputs": [],
   "source": [
    "train_dataset  = np.genfromtxt('trainingData_classification.csv', delimiter = ',')\n",
    "train_data  = np.delete(train_dataset,10,axis = 1)\n",
    "train_class = train_dataset[:,10]\n",
    "test_dataset  = np.genfromtxt('testData_classification.csv', delimiter = ',')\n",
    "test_data  = np.delete(test_dataset,10,axis = 1)\n",
    "test_class = test_dataset[:,10]"
   ]
  },
  {
   "cell_type": "code",
   "execution_count": 548,
   "metadata": {},
   "outputs": [],
   "source": [
    "def calculateDistances(query_instance, feature_list):\n",
    "    feature_difference = feature_list - query_instance\n",
    "    euclidena_distance = np.sqrt(np.sum(np.square(feature_difference),axis=1))\n",
    "    sorted_distance_index = np.argsort(euclidena_distance)\n",
    "    return euclidena_distance, sorted_distance_index"
   ]
  },
  {
   "cell_type": "code",
   "execution_count": 549,
   "metadata": {},
   "outputs": [],
   "source": [
    "k = 10"
   ]
  },
  {
   "cell_type": "code",
   "execution_count": 550,
   "metadata": {},
   "outputs": [],
   "source": [
    "results = np.apply_along_axis(calculateDistances,1, test_data,train_data)"
   ]
  },
  {
   "cell_type": "code",
   "execution_count": 551,
   "metadata": {},
   "outputs": [],
   "source": [
    "sorted_indicies = results[:,1].astype('int32') \n",
    "distances = results[:,0]"
   ]
  },
  {
   "cell_type": "code",
   "execution_count": 552,
   "metadata": {},
   "outputs": [],
   "source": [
    "# Contains all the indicies representing the minimum euclidena distance\n",
    "minimum_dist = sorted_indicies[:,:k]"
   ]
  },
  {
   "cell_type": "code",
   "execution_count": 553,
   "metadata": {},
   "outputs": [
    {
     "data": {
      "text/plain": [
       "array([[ 792, 1037, 1518, ..., 2979,  534, 2068],\n",
       "       [3337, 2946, 3417, ..., 2702, 2979, 2068],\n",
       "       [1378,  836, 3230, ...,  799, 2068, 2979],\n",
       "       ...,\n",
       "       [3659, 1186,  531, ...,  799, 3891, 2068],\n",
       "       [2655, 3191,  466, ...,  534, 2979, 2068],\n",
       "       [3666,  137,   66, ..., 2068, 2023, 1458]])"
      ]
     },
     "execution_count": 553,
     "metadata": {},
     "output_type": "execute_result"
    }
   ],
   "source": [
    "sorted_indicies"
   ]
  },
  {
   "cell_type": "code",
   "execution_count": null,
   "metadata": {},
   "outputs": [],
   "source": []
  },
  {
   "cell_type": "code",
   "execution_count": 554,
   "metadata": {},
   "outputs": [
    {
     "data": {
      "text/plain": [
       "array([[0.45730647, 0.40561773, 0.43496813, ..., 0.32210837, 0.46737854,\n",
       "        0.86729724],\n",
       "       [0.54662896, 0.4939321 , 0.64804863, ..., 0.43982632, 0.34213352,\n",
       "        0.73020761],\n",
       "       [0.39262847, 0.58098335, 0.5475406 , ..., 0.29384476, 0.5340471 ,\n",
       "        0.77977997],\n",
       "       ...,\n",
       "       [0.58173703, 0.41195646, 0.52525442, ..., 0.52916584, 0.5955721 ,\n",
       "        0.75141248],\n",
       "       [0.45165227, 0.40357961, 0.5646753 , ..., 0.33826429, 0.30237948,\n",
       "        0.76469201],\n",
       "       [0.31835764, 0.62750192, 0.49928755, ..., 0.40841963, 0.52525653,\n",
       "        0.61031134]])"
      ]
     },
     "execution_count": 554,
     "metadata": {},
     "output_type": "execute_result"
    }
   ],
   "source": [
    "distances"
   ]
  },
  {
   "cell_type": "code",
   "execution_count": null,
   "metadata": {},
   "outputs": [],
   "source": []
  },
  {
   "cell_type": "code",
   "execution_count": null,
   "metadata": {},
   "outputs": [],
   "source": []
  },
  {
   "cell_type": "code",
   "execution_count": 555,
   "metadata": {},
   "outputs": [],
   "source": [
    "test_dist = distances.copy()"
   ]
  },
  {
   "cell_type": "code",
   "execution_count": 556,
   "metadata": {},
   "outputs": [],
   "source": [
    "test_dist.sort(axis=1)"
   ]
  },
  {
   "cell_type": "code",
   "execution_count": 557,
   "metadata": {},
   "outputs": [
    {
     "data": {
      "text/plain": [
       "array([[0.13526273, 0.13935928, 0.17230542, ..., 0.95497102, 0.96026204,\n",
       "        1.19418367],\n",
       "       [0.17259924, 0.18883668, 0.20437515, ..., 1.01247705, 1.0559992 ,\n",
       "        1.18839194],\n",
       "       [0.15332181, 0.15790306, 0.16751189, ..., 1.00494285, 1.00698529,\n",
       "        1.03300068],\n",
       "       ...,\n",
       "       [0.18176714, 0.22278254, 0.23930868, ..., 0.9768479 , 1.00623819,\n",
       "        1.11600928],\n",
       "       [0.14034546, 0.15750501, 0.16695484, ..., 0.97279772, 1.00863146,\n",
       "        1.15867376],\n",
       "       [0.17756937, 0.18082225, 0.18135623, ..., 0.94800775, 1.00158902,\n",
       "        1.01078266]])"
      ]
     },
     "execution_count": 557,
     "metadata": {},
     "output_type": "execute_result"
    }
   ],
   "source": [
    "test_dist"
   ]
  },
  {
   "cell_type": "code",
   "execution_count": null,
   "metadata": {},
   "outputs": [],
   "source": []
  },
  {
   "cell_type": "code",
   "execution_count": null,
   "metadata": {},
   "outputs": [],
   "source": []
  },
  {
   "cell_type": "code",
   "execution_count": null,
   "metadata": {},
   "outputs": [],
   "source": []
  },
  {
   "cell_type": "code",
   "execution_count": 567,
   "metadata": {},
   "outputs": [],
   "source": [
    "my_dist = test_dist[:,:k]  "
   ]
  },
  {
   "cell_type": "code",
   "execution_count": 568,
   "metadata": {},
   "outputs": [
    {
     "data": {
      "text/plain": [
       "array([[0.13526273, 0.13935928, 0.17230542, ..., 0.19052778, 0.19057041,\n",
       "        0.19785218],\n",
       "       [0.17259924, 0.18883668, 0.20437515, ..., 0.22015966, 0.22141403,\n",
       "        0.2246004 ],\n",
       "       [0.15332181, 0.15790306, 0.16751189, ..., 0.18922303, 0.19033234,\n",
       "        0.20156609],\n",
       "       ...,\n",
       "       [0.18176714, 0.22278254, 0.23930868, ..., 0.25140438, 0.25279925,\n",
       "        0.25451836],\n",
       "       [0.14034546, 0.15750501, 0.16695484, ..., 0.18820183, 0.19785646,\n",
       "        0.19809569],\n",
       "       [0.17756937, 0.18082225, 0.18135623, ..., 0.2046299 , 0.20964571,\n",
       "        0.21528287]])"
      ]
     },
     "execution_count": 568,
     "metadata": {},
     "output_type": "execute_result"
    }
   ],
   "source": [
    "my_dist"
   ]
  },
  {
   "cell_type": "code",
   "execution_count": null,
   "metadata": {},
   "outputs": [],
   "source": []
  },
  {
   "cell_type": "code",
   "execution_count": 560,
   "metadata": {},
   "outputs": [],
   "source": [
    "# Numpy array to store the classes predicted for the test data\n",
    "prediction = train_class[minimum_dist].astype('int32') "
   ]
  },
  {
   "cell_type": "code",
   "execution_count": 574,
   "metadata": {},
   "outputs": [
    {
     "data": {
      "text/plain": [
       "array([[0, 0, 0, ..., 0, 0, 2],\n",
       "       [0, 0, 0, ..., 0, 0, 0],\n",
       "       [2, 2, 2, ..., 2, 2, 2],\n",
       "       ...,\n",
       "       [0, 0, 0, ..., 0, 2, 0],\n",
       "       [0, 0, 2, ..., 0, 0, 0],\n",
       "       [2, 1, 1, ..., 1, 1, 2]])"
      ]
     },
     "execution_count": 574,
     "metadata": {},
     "output_type": "execute_result"
    }
   ],
   "source": [
    "prediction"
   ]
  },
  {
   "cell_type": "code",
   "execution_count": 614,
   "metadata": {},
   "outputs": [],
   "source": [
    "zz = np.zeros(shape=(1000,))\n",
    "n = 3\n",
    "for i in range(0,len(prediction)):\n",
    "\n",
    "    freq0 = 0\n",
    "    freq1 = 0\n",
    "    freq2 = 0\n",
    "    for j in range(0,k):\n",
    "        if prediction[i][j] == 0:   \n",
    "            freq0 += (1 / pow(my_dist[i][j],n)) \n",
    "        elif prediction[i][j] == 1:\n",
    "            freq1 += (1 / pow(my_dist[i][j],n)) \n",
    "        \n",
    "        elif prediction[i][j] == 2:\n",
    "            freq2 += (1 / pow(my_dist[i][j],n)) \n",
    "    \n",
    "#     print('freq0', freq0)\n",
    "#     print('freq1' ,freq1)\n",
    "#     print('freq2', freq2)\n",
    "    if freq0 > freq1 and freq0 > freq2:\n",
    "        zz[i] = 0\n",
    "    \n",
    "    elif freq1 > freq0 and freq1 > freq2:\n",
    "        zz[i] = 1\n",
    "    \n",
    "    elif freq2 > freq0 and freq2 > freq1:\n",
    "        zz[i] = 2\n",
    "    "
   ]
  },
  {
   "cell_type": "code",
   "execution_count": 617,
   "metadata": {},
   "outputs": [],
   "source": [
    "# Calculating the count of correct predictions\n",
    "correct_prediction = np.count_nonzero(test_class == zz)"
   ]
  },
  {
   "cell_type": "code",
   "execution_count": 618,
   "metadata": {},
   "outputs": [
    {
     "name": "stdout",
     "output_type": "stream",
     "text": [
      "The model has an accuracy of 92.80000000000001 %\n"
     ]
    }
   ],
   "source": [
    "# The percentage of correct prediction\n",
    "percentage =( correct_prediction/len(test_dataset) ) *100\n",
    "\n",
    "print(f'The model has an accuracy of {percentage} %')"
   ]
  },
  {
   "cell_type": "code",
   "execution_count": null,
   "metadata": {},
   "outputs": [],
   "source": []
  },
  {
   "cell_type": "code",
   "execution_count": null,
   "metadata": {},
   "outputs": [],
   "source": []
  },
  {
   "cell_type": "code",
   "execution_count": null,
   "metadata": {},
   "outputs": [],
   "source": []
  },
  {
   "cell_type": "markdown",
   "metadata": {},
   "source": [
    "#### Part B"
   ]
  },
  {
   "cell_type": "markdown",
   "metadata": {},
   "source": [
    "### Using scaling on the KNN model to see the improvement in results "
   ]
  },
  {
   "cell_type": "markdown",
   "metadata": {},
   "source": [
    "#### On Basic Model"
   ]
  },
  {
   "cell_type": "code",
   "execution_count": 398,
   "metadata": {},
   "outputs": [],
   "source": [
    "\n",
    "scaling_train_data = train_data.copy()\n",
    "scaling_test_data = test_data.copy()\n"
   ]
  },
  {
   "cell_type": "code",
   "execution_count": 405,
   "metadata": {},
   "outputs": [
    {
     "data": {
      "text/plain": [
       "array([[0.5301304 , 0.62645837, 0.44524917, ..., 0.40806674, 0.46013734,\n",
       "        0.61033772],\n",
       "       [0.43333892, 0.46062429, 0.56937923, ..., 0.6451305 , 0.33103777,\n",
       "        0.35859095],\n",
       "       [0.60879428, 0.72451976, 0.2661216 , ..., 0.38850336, 0.41685737,\n",
       "        0.57226228],\n",
       "       ...,\n",
       "       [0.43723375, 0.5618769 , 0.56685036, ..., 0.37932588, 0.4918483 ,\n",
       "        0.4908792 ],\n",
       "       [0.62399617, 0.35529236, 0.49406175, ..., 0.46282374, 0.42130978,\n",
       "        0.46383661],\n",
       "       [0.37743885, 0.39775421, 0.52465763, ..., 0.53548199, 0.38003063,\n",
       "        0.40968938]])"
      ]
     },
     "execution_count": 405,
     "metadata": {},
     "output_type": "execute_result"
    }
   ],
   "source": [
    "scaling_train_data"
   ]
  },
  {
   "cell_type": "markdown",
   "metadata": {},
   "source": [
    "Min and max of the feature only , subtract the min max of the feature from the query instance.\n",
    "Example\n",
    "For feature F1, calculate the min and max \n",
    "and when compouting the query instance use the same min and max of F1"
   ]
  },
  {
   "cell_type": "code",
   "execution_count": 411,
   "metadata": {},
   "outputs": [],
   "source": [
    "min_features_train = np.amin(scaling_train_data, axis=0)\n",
    "max_features_train = np.amax(scaling_train_data, axis=0)"
   ]
  },
  {
   "cell_type": "code",
   "execution_count": 412,
   "metadata": {},
   "outputs": [],
   "source": [
    "# min_features_test = np.amin(scaling_test_data, axis=0)\n",
    "# max_features_test = np.amax(scaling_test_data, axis=0)"
   ]
  },
  {
   "cell_type": "code",
   "execution_count": 418,
   "metadata": {},
   "outputs": [
    {
     "data": {
      "text/plain": [
       "array([[0.5301304 , 0.57767742, 0.44524917, ..., 0.40806674, 0.42023715,\n",
       "        0.61033772],\n",
       "       [0.43333892, 0.41184334, 0.56937923, ..., 0.6451305 , 0.29113757,\n",
       "        0.35859095],\n",
       "       [0.60879428, 0.67573881, 0.2661216 , ..., 0.38850336, 0.37695717,\n",
       "        0.57226228],\n",
       "       ...,\n",
       "       [0.43723375, 0.51309595, 0.56685036, ..., 0.37932588, 0.4519481 ,\n",
       "        0.4908792 ],\n",
       "       [0.62399617, 0.30651141, 0.49406175, ..., 0.46282374, 0.38140959,\n",
       "        0.46383661],\n",
       "       [0.37743885, 0.34897326, 0.52465763, ..., 0.53548199, 0.34013043,\n",
       "        0.40968938]])"
      ]
     },
     "execution_count": 418,
     "metadata": {},
     "output_type": "execute_result"
    }
   ],
   "source": [
    "scaling_train_data - min_features_train"
   ]
  },
  {
   "cell_type": "code",
   "execution_count": 421,
   "metadata": {},
   "outputs": [
    {
     "data": {
      "text/plain": [
       "array([0.        , 0.04878095, 0.        , 0.04237391, 0.        ,\n",
       "       0.        , 0.07190014, 0.        , 0.0399002 , 0.        ])"
      ]
     },
     "execution_count": 421,
     "metadata": {},
     "output_type": "execute_result"
    }
   ],
   "source": [
    "min_features_train"
   ]
  },
  {
   "cell_type": "code",
   "execution_count": 422,
   "metadata": {},
   "outputs": [
    {
     "data": {
      "text/plain": [
       "array([1.        , 1.        , 0.99150153, 1.        , 1.        ,\n",
       "       1.        , 0.98149185, 0.85121676, 1.        , 1.        ])"
      ]
     },
     "execution_count": 422,
     "metadata": {},
     "output_type": "execute_result"
    }
   ],
   "source": [
    "max_features_train"
   ]
  },
  {
   "cell_type": "code",
   "execution_count": null,
   "metadata": {},
   "outputs": [],
   "source": []
  },
  {
   "cell_type": "code",
   "execution_count": 426,
   "metadata": {},
   "outputs": [
    {
     "data": {
      "text/plain": [
       "array([[0.5301304 , 0.57767742, 0.44524917, ..., 0.40806674, 0.42023715,\n",
       "        0.61033772],\n",
       "       [0.43333892, 0.41184334, 0.56937923, ..., 0.6451305 , 0.29113757,\n",
       "        0.35859095],\n",
       "       [0.60879428, 0.67573881, 0.2661216 , ..., 0.38850336, 0.37695717,\n",
       "        0.57226228],\n",
       "       ...,\n",
       "       [0.43723375, 0.51309595, 0.56685036, ..., 0.37932588, 0.4519481 ,\n",
       "        0.4908792 ],\n",
       "       [0.62399617, 0.30651141, 0.49406175, ..., 0.46282374, 0.38140959,\n",
       "        0.46383661],\n",
       "       [0.37743885, 0.34897326, 0.52465763, ..., 0.53548199, 0.34013043,\n",
       "        0.40968938]])"
      ]
     },
     "execution_count": 426,
     "metadata": {},
     "output_type": "execute_result"
    }
   ],
   "source": [
    "scaling_train_data - min_features_train"
   ]
  },
  {
   "cell_type": "code",
   "execution_count": 425,
   "metadata": {},
   "outputs": [
    {
     "data": {
      "text/plain": [
       "array([1.        , 0.95121905, 0.99150153, 0.95762609, 1.        ,\n",
       "       1.        , 0.9095917 , 0.85121676, 0.9600998 , 1.        ])"
      ]
     },
     "execution_count": 425,
     "metadata": {},
     "output_type": "execute_result"
    }
   ],
   "source": [
    "max_features_train-min_features_train"
   ]
  },
  {
   "cell_type": "code",
   "execution_count": 419,
   "metadata": {},
   "outputs": [
    {
     "data": {
      "text/plain": [
       "array([[0.5301304 , 0.6073022 , 0.44906554, ..., 0.47939228, 0.43770152,\n",
       "        0.61033772],\n",
       "       [0.43333892, 0.43296372, 0.57425956, ..., 0.75789215, 0.30323678,\n",
       "        0.35859095],\n",
       "       [0.60879428, 0.71039243, 0.26840261, ..., 0.45640944, 0.3926229 ,\n",
       "        0.57226228],\n",
       "       ...,\n",
       "       [0.43723375, 0.53940882, 0.57170901, ..., 0.44562784, 0.47073034,\n",
       "        0.4908792 ],\n",
       "       [0.62399617, 0.3222301 , 0.49829651, ..., 0.5437202 , 0.39726035,\n",
       "        0.46383661],\n",
       "       [0.37743885, 0.3668695 , 0.52915463, ..., 0.6290783 , 0.3542657 ,\n",
       "        0.40968938]])"
      ]
     },
     "execution_count": 419,
     "metadata": {},
     "output_type": "execute_result"
    }
   ],
   "source": [
    "(scaling_train_data - min_features_train)/(max_features_train-min_features_train)"
   ]
  },
  {
   "cell_type": "code",
   "execution_count": 427,
   "metadata": {},
   "outputs": [],
   "source": [
    "scaled_train_data = (scaling_train_data - min_features_train)/(max_features_train-min_features_train)"
   ]
  },
  {
   "cell_type": "code",
   "execution_count": 435,
   "metadata": {},
   "outputs": [
    {
     "data": {
      "text/plain": [
       "array([[0.5301304 , 0.6073022 , 0.44906554, ..., 0.47939228, 0.43770152,\n",
       "        0.61033772],\n",
       "       [0.43333892, 0.43296372, 0.57425956, ..., 0.75789215, 0.30323678,\n",
       "        0.35859095],\n",
       "       [0.60879428, 0.71039243, 0.26840261, ..., 0.45640944, 0.3926229 ,\n",
       "        0.57226228],\n",
       "       ...,\n",
       "       [0.43723375, 0.53940882, 0.57170901, ..., 0.44562784, 0.47073034,\n",
       "        0.4908792 ],\n",
       "       [0.62399617, 0.3222301 , 0.49829651, ..., 0.5437202 , 0.39726035,\n",
       "        0.46383661],\n",
       "       [0.37743885, 0.3668695 , 0.52915463, ..., 0.6290783 , 0.3542657 ,\n",
       "        0.40968938]])"
      ]
     },
     "execution_count": 435,
     "metadata": {},
     "output_type": "execute_result"
    }
   ],
   "source": [
    "# Contains the scale training data.\n",
    "\n",
    "scaled_train_data"
   ]
  },
  {
   "cell_type": "code",
   "execution_count": 430,
   "metadata": {},
   "outputs": [
    {
     "data": {
      "text/plain": [
       "array([[0.54131721, 0.52305685, 0.42921551, ..., 0.37434461, 0.52591475,\n",
       "        0.36184407],\n",
       "       [0.53091097, 0.3000469 , 0.39346106, ..., 0.29261769, 0.3806552 ,\n",
       "        0.33904193],\n",
       "       [0.29331853, 0.44518117, 0.41390863, ..., 0.2510257 , 0.50481932,\n",
       "        0.43607184],\n",
       "       ...,\n",
       "       [0.6123325 , 0.53096305, 0.44993697, ..., 0.49420631, 0.42408399,\n",
       "        0.49770085],\n",
       "       [0.58123698, 0.40641692, 0.44801209, ..., 0.37437079, 0.39057652,\n",
       "        0.32998854],\n",
       "       [0.64804457, 0.60038784, 0.5537455 , ..., 0.37413601, 0.4213437 ,\n",
       "        0.49818765]])"
      ]
     },
     "execution_count": 430,
     "metadata": {},
     "output_type": "execute_result"
    }
   ],
   "source": [
    "scaling_test_data"
   ]
  },
  {
   "cell_type": "code",
   "execution_count": 433,
   "metadata": {},
   "outputs": [],
   "source": [
    "scaled_test_data = (scaling_test_data - min_features_train)/(max_features_train-min_features_train)"
   ]
  },
  {
   "cell_type": "code",
   "execution_count": 436,
   "metadata": {},
   "outputs": [
    {
     "data": {
      "text/plain": [
       "array([[0.54131721, 0.49859798, 0.43289445, ..., 0.43977589, 0.50621254,\n",
       "        0.36184407],\n",
       "       [0.53091097, 0.26415151, 0.39683354, ..., 0.34376402, 0.35491623,\n",
       "        0.33904193],\n",
       "       [0.29331853, 0.41672864, 0.41745638, ..., 0.2949022 , 0.48424041,\n",
       "        0.43607184],\n",
       "       ...,\n",
       "       [0.6123325 , 0.50690963, 0.45379353, ..., 0.58058809, 0.40014985,\n",
       "        0.49770085],\n",
       "       [0.58123698, 0.37597646, 0.45185214, ..., 0.43980665, 0.36524987,\n",
       "        0.32998854],\n",
       "       [0.64804457, 0.57989471, 0.55849182, ..., 0.43953083, 0.39729568,\n",
       "        0.49818765]])"
      ]
     },
     "execution_count": 436,
     "metadata": {},
     "output_type": "execute_result"
    }
   ],
   "source": [
    "scaled_test_data"
   ]
  },
  {
   "cell_type": "code",
   "execution_count": null,
   "metadata": {},
   "outputs": [],
   "source": []
  },
  {
   "cell_type": "markdown",
   "metadata": {},
   "source": [
    "#### Now we have the scaled trained and test data, we can apply the KNN model"
   ]
  },
  {
   "cell_type": "code",
   "execution_count": 496,
   "metadata": {},
   "outputs": [],
   "source": [
    "def calculateDistances(query_instance, feature_list):\n",
    "    feature_difference = feature_list - query_instance\n",
    "    euclidena_distance = np.sqrt(np.sum(np.square(feature_difference),axis=1))\n",
    "    sorted_distance_index = np.argsort(euclidena_distance)\n",
    "    return euclidena_distance, sorted_distance_index"
   ]
  },
  {
   "cell_type": "code",
   "execution_count": 497,
   "metadata": {},
   "outputs": [],
   "source": [
    "results = np.apply_along_axis(calculateDistances,1, scaled_test_data,scaled_train_data)"
   ]
  },
  {
   "cell_type": "code",
   "execution_count": 498,
   "metadata": {},
   "outputs": [],
   "source": [
    "sorted_indicies = results[:,1].astype('int32') "
   ]
  },
  {
   "cell_type": "code",
   "execution_count": 499,
   "metadata": {},
   "outputs": [
    {
     "name": "stdout",
     "output_type": "stream",
     "text": [
      "10\n"
     ]
    }
   ],
   "source": [
    "k = int(input())"
   ]
  },
  {
   "cell_type": "code",
   "execution_count": 500,
   "metadata": {},
   "outputs": [],
   "source": [
    "def knn_vote(prediction):\n",
    "    return np.bincount(prediction).argmax()"
   ]
  },
  {
   "cell_type": "code",
   "execution_count": 501,
   "metadata": {},
   "outputs": [
    {
     "name": "stdout",
     "output_type": "stream",
     "text": [
      "The model has an accuracy of 92.0 %\n"
     ]
    }
   ],
   "source": [
    "# Contains all the indicies representing the minimum euclidena distance\n",
    "minimum_dist = sorted_indicies[:,:k]\n",
    "\n",
    "# Numpy array to store the classes predicted for the test data\n",
    "prediction = train_class[minimum_dist].astype('int32') \n",
    "\n",
    "# Finding the mode of the classes in K neighbours\n",
    "find_res = np.apply_along_axis(knn_vote,1, prediction)\n",
    "\n",
    "# Calculating the count of correct predictions\n",
    "correct_prediction = np.count_nonzero(test_class == find_res)\n",
    "\n",
    "# The percentage of correct prediction\n",
    "percentage =( correct_prediction/len(test_dataset) ) *100\n",
    "\n",
    "print(f'The model has an accuracy of {percentage} %')"
   ]
  },
  {
   "cell_type": "markdown",
   "metadata": {},
   "source": [
    "#### On Weighted Model"
   ]
  },
  {
   "cell_type": "code",
   "execution_count": 502,
   "metadata": {},
   "outputs": [],
   "source": [
    "sorted_indicies = results[:,1].astype('int32') \n",
    "distances = results[:,0]\n",
    "# Contains all the indicies representing the minimum euclidena distance\n",
    "minimum_dist = sorted_indicies[:,:k]"
   ]
  },
  {
   "cell_type": "code",
   "execution_count": 503,
   "metadata": {},
   "outputs": [],
   "source": [
    "test_dist = distances.copy()\n",
    "test_dist.sort(axis=1)\n",
    "my_dist = test_dist[:,:k] "
   ]
  },
  {
   "cell_type": "code",
   "execution_count": 504,
   "metadata": {},
   "outputs": [],
   "source": [
    "# Numpy array to store the classes predicted for the test data\n",
    "prediction = train_class[minimum_dist].astype('int32') "
   ]
  },
  {
   "cell_type": "code",
   "execution_count": 505,
   "metadata": {},
   "outputs": [],
   "source": [
    "prediction_array = np.zeros(shape=(len(scaled_test_data),))"
   ]
  },
  {
   "cell_type": "code",
   "execution_count": 506,
   "metadata": {},
   "outputs": [],
   "source": [
    "for i in range(0,len(prediction)):\n",
    "\n",
    "    freq0 = 0\n",
    "    freq1 = 0\n",
    "    freq2 = 0\n",
    "    for j in range(0,k):\n",
    "        if prediction[i][j] == 0:   \n",
    "            freq0 += (1 / my_dist[i][j]) \n",
    "        elif prediction[i][j] == 1:\n",
    "            freq1 += (1 / my_dist[i][j]) \n",
    "        \n",
    "        elif prediction[i][j] == 2:\n",
    "            freq2 += (1 / my_dist[i][j]) \n",
    "    \n",
    "#     print('freq0', freq0)\n",
    "#     print('freq1' ,freq1)\n",
    "#     print('freq2', freq2)\n",
    "    if freq0 > freq1 and freq0 > freq2:\n",
    "        prediction_array[i] = 0\n",
    "    \n",
    "    elif freq1 > freq0 and freq1 > freq2:\n",
    "        prediction_array[i] = 1\n",
    "    \n",
    "    elif freq2 > freq0 and freq2 > freq1:\n",
    "        prediction_array[i] = 2\n",
    "    "
   ]
  },
  {
   "cell_type": "code",
   "execution_count": 507,
   "metadata": {},
   "outputs": [
    {
     "name": "stdout",
     "output_type": "stream",
     "text": [
      "The model has an accuracy of 92.80000000000001 %\n"
     ]
    }
   ],
   "source": [
    "# Calculating the count of correct predictions\n",
    "correct_prediction = np.count_nonzero(test_class == prediction_array)\n",
    "# The percentage of correct prediction\n",
    "percentage =( correct_prediction/len(test_dataset) ) *100\n",
    "\n",
    "print(f'The model has an accuracy of {percentage} %')"
   ]
  },
  {
   "cell_type": "code",
   "execution_count": null,
   "metadata": {},
   "outputs": [],
   "source": []
  },
  {
   "cell_type": "code",
   "execution_count": null,
   "metadata": {},
   "outputs": [],
   "source": []
  }
 ],
 "metadata": {
  "kernelspec": {
   "display_name": "Python 3",
   "language": "python",
   "name": "python3"
  },
  "language_info": {
   "codemirror_mode": {
    "name": "ipython",
    "version": 3
   },
   "file_extension": ".py",
   "mimetype": "text/x-python",
   "name": "python",
   "nbconvert_exporter": "python",
   "pygments_lexer": "ipython3",
   "version": "3.6.8"
  }
 },
 "nbformat": 4,
 "nbformat_minor": 2
}
