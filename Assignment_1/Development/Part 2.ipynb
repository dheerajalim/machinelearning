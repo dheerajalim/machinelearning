{
 "cells": [
  {
   "cell_type": "markdown",
   "metadata": {},
   "source": [
    "You should use the training and test file from the classification folder in data.zip for Part 2.<br>\n",
    "\n",
    "The objective of this section is to investigate the performance of a k-NN and a distance weighted variant and to write a report documenting your findings.\n",
    "<br>\n",
    "\n",
    "#### (a) You should implement a distance-weighted variant of the k-NN algorithm you developed in part 1. In your report include the performance achieved by the distance-weighted k-NN for k=10.\n"
   ]
  },
  {
   "cell_type": "code",
   "execution_count": 267,
   "metadata": {},
   "outputs": [],
   "source": [
    "import numpy as np\n",
    "import math"
   ]
  },
  {
   "cell_type": "code",
   "execution_count": 303,
   "metadata": {},
   "outputs": [],
   "source": [
    "train_dataset  = np.genfromtxt('trainingData_classification.csv', delimiter = ',')\n",
    "train_data  = np.delete(train_dataset,10,axis = 1)\n",
    "train_class = train_dataset[:,10]\n",
    "test_dataset  = np.genfromtxt('testData_classification.csv', delimiter = ',')\n",
    "test_data  = np.delete(test_dataset,10,axis = 1)\n",
    "test_class = test_dataset[:,10]"
   ]
  },
  {
   "cell_type": "code",
   "execution_count": 304,
   "metadata": {},
   "outputs": [],
   "source": [
    "def calculateDistances(query_instance, feature_list):\n",
    "    feature_difference = feature_list - query_instance\n",
    "    euclidena_distance = np.sqrt(np.sum(np.square(feature_difference),axis=1))\n",
    "    sorted_distance_index = np.argsort(euclidena_distance)\n",
    "    return euclidena_distance, sorted_distance_index"
   ]
  },
  {
   "cell_type": "code",
   "execution_count": 305,
   "metadata": {},
   "outputs": [],
   "source": [
    "k = 10\n",
    "n = 3"
   ]
  },
  {
   "cell_type": "code",
   "execution_count": 306,
   "metadata": {},
   "outputs": [],
   "source": [
    "results = np.apply_along_axis(calculateDistances,1, test_data,train_data)"
   ]
  },
  {
   "cell_type": "code",
   "execution_count": 307,
   "metadata": {},
   "outputs": [],
   "source": [
    "sorted_indicies = results[:,1].astype('int32') \n",
    "distances = results[:,0]"
   ]
  },
  {
   "cell_type": "code",
   "execution_count": 308,
   "metadata": {},
   "outputs": [],
   "source": [
    "# Contains all the indicies representing the minimum euclidena distance\n",
    "minimum_dist = sorted_indicies[:,:k]"
   ]
  },
  {
   "cell_type": "code",
   "execution_count": 309,
   "metadata": {},
   "outputs": [],
   "source": [
    "test_dist = distances.copy()"
   ]
  },
  {
   "cell_type": "code",
   "execution_count": 310,
   "metadata": {},
   "outputs": [],
   "source": [
    "test_dist.sort(axis=1)"
   ]
  },
  {
   "cell_type": "code",
   "execution_count": 311,
   "metadata": {},
   "outputs": [],
   "source": [
    "my_dist = test_dist[:, :k]"
   ]
  },
  {
   "cell_type": "code",
   "execution_count": 312,
   "metadata": {},
   "outputs": [],
   "source": [
    "# Numpy array to store the classes predicted for the test data\n",
    "prediction = train_class[minimum_dist].astype('int32') "
   ]
  },
  {
   "cell_type": "code",
   "execution_count": 313,
   "metadata": {},
   "outputs": [],
   "source": [
    "classes = np.unique(prediction)"
   ]
  },
  {
   "cell_type": "code",
   "execution_count": 319,
   "metadata": {},
   "outputs": [],
   "source": [
    "distance_inverse = 1/pow(my_dist,n)"
   ]
  },
  {
   "cell_type": "code",
   "execution_count": 320,
   "metadata": {},
   "outputs": [],
   "source": [
    "mm = np.zeros(shape=(1000,))\n",
    "for i in range(0,len(prediction)):\n",
    "    my_list = []\n",
    "    for j in classes:\n",
    "        class0 = np.where(prediction[i] == j)\n",
    "        xxx = distance_inverse[i][class0]\n",
    "        my_list.append(np.sum(xxx))\n",
    "    \n",
    "#     class1 = np.where(prediction[i] == 1)\n",
    "#     xxx = distance_inverse[i][class1]\n",
    "#     my_list.append(np.sum(xxx))\n",
    "    \n",
    "#     class2 = np.where(prediction[i] == 2)\n",
    "#     xxx = distance_inverse[i][class2]\n",
    "#     my_list.append(np.sum(xxx))\n",
    "    \n",
    "    mm[i] = my_list.index(max(my_list))"
   ]
  },
  {
   "cell_type": "code",
   "execution_count": 321,
   "metadata": {},
   "outputs": [
    {
     "name": "stdout",
     "output_type": "stream",
     "text": [
      "The model has an accuracy of 92.80000000000001 %\n"
     ]
    }
   ],
   "source": [
    "# Calculating the count of correct predictions\n",
    "correct_prediction = np.count_nonzero(test_class == mm)\n",
    "# The percentage of correct prediction\n",
    "percentage =( correct_prediction/len(test_dataset) ) *100\n",
    "\n",
    "print(f'The model has an accuracy of {percentage} %')"
   ]
  },
  {
   "cell_type": "code",
   "execution_count": null,
   "metadata": {},
   "outputs": [],
   "source": []
  },
  {
   "cell_type": "code",
   "execution_count": null,
   "metadata": {},
   "outputs": [],
   "source": []
  },
  {
   "cell_type": "code",
   "execution_count": null,
   "metadata": {},
   "outputs": [],
   "source": []
  },
  {
   "cell_type": "code",
   "execution_count": null,
   "metadata": {},
   "outputs": [],
   "source": []
  },
  {
   "cell_type": "code",
   "execution_count": null,
   "metadata": {},
   "outputs": [],
   "source": []
  },
  {
   "cell_type": "code",
   "execution_count": 295,
   "metadata": {},
   "outputs": [],
   "source": [
    "zz = np.zeros(shape=(1000,))\n",
    "n = 3\n",
    "classes = np.unique(prediction)\n",
    "\n",
    "for i in range(0,len(prediction)):\n",
    "\n",
    "    freq0 = 0\n",
    "    freq1 = 0\n",
    "    freq2 = 0\n",
    "    for j in range(0,k):\n",
    "        if prediction[i][j] == 0:   \n",
    "            freq0 += (1 / pow(my_dist[i][j],n)) \n",
    "        elif prediction[i][j] == 1:\n",
    "            freq1 += (1 / pow(my_dist[i][j],n)) \n",
    "        \n",
    "        elif prediction[i][j] == 2:\n",
    "            freq2 += (1 / pow(my_dist[i][j],n)) \n",
    "    \n",
    "#     print('freq0', freq0)\n",
    "#     print('freq1' ,freq1)\n",
    "#     print('freq2', freq2)\n",
    "    if freq0 > freq1 and freq0 > freq2:\n",
    "        zz[i] = 0\n",
    "    \n",
    "    elif freq1 > freq0 and freq1 > freq2:\n",
    "        zz[i] = 1\n",
    "    \n",
    "    elif freq2 > freq0 and freq2 > freq1:\n",
    "        zz[i] = 2\n",
    "    "
   ]
  },
  {
   "cell_type": "code",
   "execution_count": null,
   "metadata": {},
   "outputs": [],
   "source": []
  },
  {
   "cell_type": "code",
   "execution_count": null,
   "metadata": {},
   "outputs": [],
   "source": []
  },
  {
   "cell_type": "code",
   "execution_count": null,
   "metadata": {},
   "outputs": [],
   "source": []
  },
  {
   "cell_type": "code",
   "execution_count": null,
   "metadata": {},
   "outputs": [],
   "source": []
  },
  {
   "cell_type": "code",
   "execution_count": 298,
   "metadata": {},
   "outputs": [],
   "source": [
    "# Calculating the count of correct predictions\n",
    "correct_prediction = np.count_nonzero(test_class == zz)"
   ]
  },
  {
   "cell_type": "code",
   "execution_count": 299,
   "metadata": {},
   "outputs": [
    {
     "name": "stdout",
     "output_type": "stream",
     "text": [
      "The model has an accuracy of 92.80000000000001 %\n"
     ]
    }
   ],
   "source": [
    "# The percentage of correct prediction\n",
    "percentage =( correct_prediction/len(test_dataset) ) *100\n",
    "\n",
    "print(f'The model has an accuracy of {percentage} %')"
   ]
  },
  {
   "cell_type": "code",
   "execution_count": null,
   "metadata": {},
   "outputs": [],
   "source": []
  },
  {
   "cell_type": "code",
   "execution_count": 300,
   "metadata": {},
   "outputs": [],
   "source": [
    "correct_prediction = np.count_nonzero(mm == zz)"
   ]
  },
  {
   "cell_type": "code",
   "execution_count": 301,
   "metadata": {},
   "outputs": [
    {
     "data": {
      "text/plain": [
       "997"
      ]
     },
     "execution_count": 301,
     "metadata": {},
     "output_type": "execute_result"
    }
   ],
   "source": [
    "correct_prediction"
   ]
  },
  {
   "cell_type": "code",
   "execution_count": null,
   "metadata": {},
   "outputs": [],
   "source": []
  },
  {
   "cell_type": "code",
   "execution_count": null,
   "metadata": {},
   "outputs": [],
   "source": []
  },
  {
   "cell_type": "code",
   "execution_count": null,
   "metadata": {},
   "outputs": [],
   "source": []
  },
  {
   "cell_type": "markdown",
   "metadata": {},
   "source": [
    "#### Part B"
   ]
  },
  {
   "cell_type": "markdown",
   "metadata": {},
   "source": [
    "### Using scaling on the KNN model to see the improvement in results "
   ]
  },
  {
   "cell_type": "markdown",
   "metadata": {},
   "source": [
    "#### On Basic Model"
   ]
  },
  {
   "cell_type": "code",
   "execution_count": 322,
   "metadata": {},
   "outputs": [],
   "source": [
    "\n",
    "scaling_train_data = train_data.copy()\n",
    "scaling_test_data = test_data.copy()\n"
   ]
  },
  {
   "cell_type": "code",
   "execution_count": 323,
   "metadata": {},
   "outputs": [
    {
     "data": {
      "text/plain": [
       "array([[0.5301304 , 0.62645837, 0.44524917, ..., 0.40806674, 0.46013734,\n",
       "        0.61033772],\n",
       "       [0.43333892, 0.46062429, 0.56937923, ..., 0.6451305 , 0.33103777,\n",
       "        0.35859095],\n",
       "       [0.60879428, 0.72451976, 0.2661216 , ..., 0.38850336, 0.41685737,\n",
       "        0.57226228],\n",
       "       ...,\n",
       "       [0.43723375, 0.5618769 , 0.56685036, ..., 0.37932588, 0.4918483 ,\n",
       "        0.4908792 ],\n",
       "       [0.62399617, 0.35529236, 0.49406175, ..., 0.46282374, 0.42130978,\n",
       "        0.46383661],\n",
       "       [0.37743885, 0.39775421, 0.52465763, ..., 0.53548199, 0.38003063,\n",
       "        0.40968938]])"
      ]
     },
     "execution_count": 323,
     "metadata": {},
     "output_type": "execute_result"
    }
   ],
   "source": [
    "scaling_train_data"
   ]
  },
  {
   "cell_type": "markdown",
   "metadata": {},
   "source": [
    "Min and max of the feature only , subtract the min max of the feature from the query instance.\n",
    "Example\n",
    "For feature F1, calculate the min and max \n",
    "and when compouting the query instance use the same min and max of F1"
   ]
  },
  {
   "cell_type": "code",
   "execution_count": 324,
   "metadata": {},
   "outputs": [],
   "source": [
    "min_features_train = np.amin(scaling_train_data, axis=0)\n",
    "max_features_train = np.amax(scaling_train_data, axis=0)"
   ]
  },
  {
   "cell_type": "code",
   "execution_count": 325,
   "metadata": {},
   "outputs": [],
   "source": [
    "# min_features_test = np.amin(scaling_test_data, axis=0)\n",
    "# max_features_test = np.amax(scaling_test_data, axis=0)"
   ]
  },
  {
   "cell_type": "code",
   "execution_count": 326,
   "metadata": {},
   "outputs": [
    {
     "data": {
      "text/plain": [
       "array([[0.5301304 , 0.57767742, 0.44524917, ..., 0.40806674, 0.42023715,\n",
       "        0.61033772],\n",
       "       [0.43333892, 0.41184334, 0.56937923, ..., 0.6451305 , 0.29113757,\n",
       "        0.35859095],\n",
       "       [0.60879428, 0.67573881, 0.2661216 , ..., 0.38850336, 0.37695717,\n",
       "        0.57226228],\n",
       "       ...,\n",
       "       [0.43723375, 0.51309595, 0.56685036, ..., 0.37932588, 0.4519481 ,\n",
       "        0.4908792 ],\n",
       "       [0.62399617, 0.30651141, 0.49406175, ..., 0.46282374, 0.38140959,\n",
       "        0.46383661],\n",
       "       [0.37743885, 0.34897326, 0.52465763, ..., 0.53548199, 0.34013043,\n",
       "        0.40968938]])"
      ]
     },
     "execution_count": 326,
     "metadata": {},
     "output_type": "execute_result"
    }
   ],
   "source": [
    "scaling_train_data - min_features_train"
   ]
  },
  {
   "cell_type": "code",
   "execution_count": 327,
   "metadata": {
    "scrolled": true
   },
   "outputs": [
    {
     "data": {
      "text/plain": [
       "array([0.        , 0.04878095, 0.        , 0.04237391, 0.        ,\n",
       "       0.        , 0.07190014, 0.        , 0.0399002 , 0.        ])"
      ]
     },
     "execution_count": 327,
     "metadata": {},
     "output_type": "execute_result"
    }
   ],
   "source": [
    "min_features_train"
   ]
  },
  {
   "cell_type": "code",
   "execution_count": 328,
   "metadata": {},
   "outputs": [
    {
     "data": {
      "text/plain": [
       "array([1.        , 1.        , 0.99150153, 1.        , 1.        ,\n",
       "       1.        , 0.98149185, 0.85121676, 1.        , 1.        ])"
      ]
     },
     "execution_count": 328,
     "metadata": {},
     "output_type": "execute_result"
    }
   ],
   "source": [
    "max_features_train"
   ]
  },
  {
   "cell_type": "code",
   "execution_count": null,
   "metadata": {},
   "outputs": [],
   "source": []
  },
  {
   "cell_type": "code",
   "execution_count": 329,
   "metadata": {},
   "outputs": [
    {
     "data": {
      "text/plain": [
       "array([[0.5301304 , 0.57767742, 0.44524917, ..., 0.40806674, 0.42023715,\n",
       "        0.61033772],\n",
       "       [0.43333892, 0.41184334, 0.56937923, ..., 0.6451305 , 0.29113757,\n",
       "        0.35859095],\n",
       "       [0.60879428, 0.67573881, 0.2661216 , ..., 0.38850336, 0.37695717,\n",
       "        0.57226228],\n",
       "       ...,\n",
       "       [0.43723375, 0.51309595, 0.56685036, ..., 0.37932588, 0.4519481 ,\n",
       "        0.4908792 ],\n",
       "       [0.62399617, 0.30651141, 0.49406175, ..., 0.46282374, 0.38140959,\n",
       "        0.46383661],\n",
       "       [0.37743885, 0.34897326, 0.52465763, ..., 0.53548199, 0.34013043,\n",
       "        0.40968938]])"
      ]
     },
     "execution_count": 329,
     "metadata": {},
     "output_type": "execute_result"
    }
   ],
   "source": [
    "scaling_train_data - min_features_train"
   ]
  },
  {
   "cell_type": "code",
   "execution_count": 330,
   "metadata": {},
   "outputs": [
    {
     "data": {
      "text/plain": [
       "array([1.        , 0.95121905, 0.99150153, 0.95762609, 1.        ,\n",
       "       1.        , 0.9095917 , 0.85121676, 0.9600998 , 1.        ])"
      ]
     },
     "execution_count": 330,
     "metadata": {},
     "output_type": "execute_result"
    }
   ],
   "source": [
    "max_features_train-min_features_train"
   ]
  },
  {
   "cell_type": "code",
   "execution_count": 331,
   "metadata": {},
   "outputs": [
    {
     "data": {
      "text/plain": [
       "array([[0.5301304 , 0.6073022 , 0.44906554, ..., 0.47939228, 0.43770152,\n",
       "        0.61033772],\n",
       "       [0.43333892, 0.43296372, 0.57425956, ..., 0.75789215, 0.30323678,\n",
       "        0.35859095],\n",
       "       [0.60879428, 0.71039243, 0.26840261, ..., 0.45640944, 0.3926229 ,\n",
       "        0.57226228],\n",
       "       ...,\n",
       "       [0.43723375, 0.53940882, 0.57170901, ..., 0.44562784, 0.47073034,\n",
       "        0.4908792 ],\n",
       "       [0.62399617, 0.3222301 , 0.49829651, ..., 0.5437202 , 0.39726035,\n",
       "        0.46383661],\n",
       "       [0.37743885, 0.3668695 , 0.52915463, ..., 0.6290783 , 0.3542657 ,\n",
       "        0.40968938]])"
      ]
     },
     "execution_count": 331,
     "metadata": {},
     "output_type": "execute_result"
    }
   ],
   "source": [
    "(scaling_train_data - min_features_train)/(max_features_train-min_features_train)"
   ]
  },
  {
   "cell_type": "code",
   "execution_count": 332,
   "metadata": {},
   "outputs": [],
   "source": [
    "scaled_train_data = (scaling_train_data - min_features_train)/(max_features_train-min_features_train)"
   ]
  },
  {
   "cell_type": "code",
   "execution_count": 333,
   "metadata": {},
   "outputs": [
    {
     "data": {
      "text/plain": [
       "array([[0.5301304 , 0.6073022 , 0.44906554, ..., 0.47939228, 0.43770152,\n",
       "        0.61033772],\n",
       "       [0.43333892, 0.43296372, 0.57425956, ..., 0.75789215, 0.30323678,\n",
       "        0.35859095],\n",
       "       [0.60879428, 0.71039243, 0.26840261, ..., 0.45640944, 0.3926229 ,\n",
       "        0.57226228],\n",
       "       ...,\n",
       "       [0.43723375, 0.53940882, 0.57170901, ..., 0.44562784, 0.47073034,\n",
       "        0.4908792 ],\n",
       "       [0.62399617, 0.3222301 , 0.49829651, ..., 0.5437202 , 0.39726035,\n",
       "        0.46383661],\n",
       "       [0.37743885, 0.3668695 , 0.52915463, ..., 0.6290783 , 0.3542657 ,\n",
       "        0.40968938]])"
      ]
     },
     "execution_count": 333,
     "metadata": {},
     "output_type": "execute_result"
    }
   ],
   "source": [
    "# Contains the scale training data.\n",
    "\n",
    "scaled_train_data"
   ]
  },
  {
   "cell_type": "code",
   "execution_count": 334,
   "metadata": {},
   "outputs": [
    {
     "data": {
      "text/plain": [
       "array([[0.54131721, 0.52305685, 0.42921551, ..., 0.37434461, 0.52591475,\n",
       "        0.36184407],\n",
       "       [0.53091097, 0.3000469 , 0.39346106, ..., 0.29261769, 0.3806552 ,\n",
       "        0.33904193],\n",
       "       [0.29331853, 0.44518117, 0.41390863, ..., 0.2510257 , 0.50481932,\n",
       "        0.43607184],\n",
       "       ...,\n",
       "       [0.6123325 , 0.53096305, 0.44993697, ..., 0.49420631, 0.42408399,\n",
       "        0.49770085],\n",
       "       [0.58123698, 0.40641692, 0.44801209, ..., 0.37437079, 0.39057652,\n",
       "        0.32998854],\n",
       "       [0.64804457, 0.60038784, 0.5537455 , ..., 0.37413601, 0.4213437 ,\n",
       "        0.49818765]])"
      ]
     },
     "execution_count": 334,
     "metadata": {},
     "output_type": "execute_result"
    }
   ],
   "source": [
    "scaling_test_data"
   ]
  },
  {
   "cell_type": "code",
   "execution_count": 335,
   "metadata": {},
   "outputs": [],
   "source": [
    "scaled_test_data = (scaling_test_data - min_features_train)/(max_features_train-min_features_train)"
   ]
  },
  {
   "cell_type": "code",
   "execution_count": 336,
   "metadata": {},
   "outputs": [
    {
     "data": {
      "text/plain": [
       "array([[0.54131721, 0.49859798, 0.43289445, ..., 0.43977589, 0.50621254,\n",
       "        0.36184407],\n",
       "       [0.53091097, 0.26415151, 0.39683354, ..., 0.34376402, 0.35491623,\n",
       "        0.33904193],\n",
       "       [0.29331853, 0.41672864, 0.41745638, ..., 0.2949022 , 0.48424041,\n",
       "        0.43607184],\n",
       "       ...,\n",
       "       [0.6123325 , 0.50690963, 0.45379353, ..., 0.58058809, 0.40014985,\n",
       "        0.49770085],\n",
       "       [0.58123698, 0.37597646, 0.45185214, ..., 0.43980665, 0.36524987,\n",
       "        0.32998854],\n",
       "       [0.64804457, 0.57989471, 0.55849182, ..., 0.43953083, 0.39729568,\n",
       "        0.49818765]])"
      ]
     },
     "execution_count": 336,
     "metadata": {},
     "output_type": "execute_result"
    }
   ],
   "source": [
    "scaled_test_data"
   ]
  },
  {
   "cell_type": "code",
   "execution_count": null,
   "metadata": {},
   "outputs": [],
   "source": []
  },
  {
   "cell_type": "markdown",
   "metadata": {},
   "source": [
    "#### Now we have the scaled trained and test data, we can apply the KNN model"
   ]
  },
  {
   "cell_type": "code",
   "execution_count": 337,
   "metadata": {},
   "outputs": [],
   "source": [
    "def calculateDistances(query_instance, feature_list):\n",
    "    feature_difference = feature_list - query_instance\n",
    "    euclidena_distance = np.sqrt(np.sum(np.square(feature_difference),axis=1))\n",
    "    sorted_distance_index = np.argsort(euclidena_distance)\n",
    "    return euclidena_distance, sorted_distance_index"
   ]
  },
  {
   "cell_type": "code",
   "execution_count": 338,
   "metadata": {},
   "outputs": [],
   "source": [
    "results = np.apply_along_axis(calculateDistances,1, scaled_test_data,scaled_train_data)"
   ]
  },
  {
   "cell_type": "code",
   "execution_count": 339,
   "metadata": {},
   "outputs": [],
   "source": [
    "sorted_indicies = results[:,1].astype('int32') "
   ]
  },
  {
   "cell_type": "code",
   "execution_count": 340,
   "metadata": {},
   "outputs": [
    {
     "name": "stdout",
     "output_type": "stream",
     "text": [
      "10\n"
     ]
    }
   ],
   "source": [
    "k = int(input())"
   ]
  },
  {
   "cell_type": "code",
   "execution_count": 341,
   "metadata": {},
   "outputs": [],
   "source": [
    "def knn_vote(prediction):\n",
    "    return np.bincount(prediction).argmax()"
   ]
  },
  {
   "cell_type": "code",
   "execution_count": 342,
   "metadata": {},
   "outputs": [
    {
     "name": "stdout",
     "output_type": "stream",
     "text": [
      "The model has an accuracy of 92.0 %\n"
     ]
    }
   ],
   "source": [
    "# Contains all the indicies representing the minimum euclidena distance\n",
    "minimum_dist = sorted_indicies[:,:k]\n",
    "\n",
    "# Numpy array to store the classes predicted for the test data\n",
    "prediction = train_class[minimum_dist].astype('int32') \n",
    "\n",
    "# Finding the mode of the classes in K neighbours\n",
    "find_res = np.apply_along_axis(knn_vote,1, prediction)\n",
    "\n",
    "# Calculating the count of correct predictions\n",
    "correct_prediction = np.count_nonzero(test_class == find_res)\n",
    "\n",
    "# The percentage of correct prediction\n",
    "percentage =( correct_prediction/len(test_dataset) ) *100\n",
    "\n",
    "print(f'The model has an accuracy of {percentage} %')"
   ]
  },
  {
   "cell_type": "markdown",
   "metadata": {},
   "source": [
    "#### On Weighted Model"
   ]
  },
  {
   "cell_type": "code",
   "execution_count": 343,
   "metadata": {},
   "outputs": [],
   "source": [
    "sorted_indicies = results[:,1].astype('int32') \n",
    "distances = results[:,0]\n",
    "# Contains all the indicies representing the minimum euclidena distance\n",
    "minimum_dist = sorted_indicies[:,:k]"
   ]
  },
  {
   "cell_type": "code",
   "execution_count": 344,
   "metadata": {},
   "outputs": [],
   "source": [
    "test_dist = distances.copy()\n",
    "test_dist.sort(axis=1)\n",
    "my_dist = test_dist[:,:k] "
   ]
  },
  {
   "cell_type": "code",
   "execution_count": 345,
   "metadata": {},
   "outputs": [],
   "source": [
    "# Numpy array to store the classes predicted for the test data\n",
    "prediction = train_class[minimum_dist].astype('int32') "
   ]
  },
  {
   "cell_type": "code",
   "execution_count": 346,
   "metadata": {},
   "outputs": [],
   "source": [
    "prediction_array = np.zeros(shape=(len(scaled_test_data),))"
   ]
  },
  {
   "cell_type": "code",
   "execution_count": 359,
   "metadata": {},
   "outputs": [],
   "source": [
    "n = 11"
   ]
  },
  {
   "cell_type": "code",
   "execution_count": 360,
   "metadata": {},
   "outputs": [],
   "source": [
    "for i in range(0,len(prediction)):\n",
    "\n",
    "    freq0 = 0\n",
    "    freq1 = 0\n",
    "    freq2 = 0\n",
    "    for j in range(0,k):\n",
    "        if prediction[i][j] == 0:   \n",
    "            freq0 += (1 / pow(my_dist[i][j],n)) \n",
    "        elif prediction[i][j] == 1:\n",
    "            freq1 += (1 / pow(my_dist[i][j],n)) \n",
    "        \n",
    "        elif prediction[i][j] == 2:\n",
    "            freq2 += (1 / pow(my_dist[i][j],n))  \n",
    "    \n",
    "#     print('freq0', freq0)\n",
    "#     print('freq1' ,freq1)\n",
    "#     print('freq2', freq2)\n",
    "    if freq0 > freq1 and freq0 > freq2:\n",
    "        prediction_array[i] = 0\n",
    "    \n",
    "    elif freq1 > freq0 and freq1 > freq2:\n",
    "        prediction_array[i] = 1\n",
    "    \n",
    "    elif freq2 > freq0 and freq2 > freq1:\n",
    "        prediction_array[i] = 2\n",
    "    "
   ]
  },
  {
   "cell_type": "code",
   "execution_count": 361,
   "metadata": {},
   "outputs": [
    {
     "name": "stdout",
     "output_type": "stream",
     "text": [
      "The model has an accuracy of 91.9 %\n"
     ]
    }
   ],
   "source": [
    "# Calculating the count of correct predictions\n",
    "correct_prediction = np.count_nonzero(test_class == prediction_array)\n",
    "# The percentage of correct prediction\n",
    "percentage =( correct_prediction/len(test_dataset) ) *100\n",
    "\n",
    "print(f'The model has an accuracy of {percentage} %')"
   ]
  },
  {
   "cell_type": "code",
   "execution_count": null,
   "metadata": {},
   "outputs": [],
   "source": []
  },
  {
   "cell_type": "code",
   "execution_count": null,
   "metadata": {},
   "outputs": [],
   "source": []
  }
 ],
 "metadata": {
  "kernelspec": {
   "display_name": "Python 3",
   "language": "python",
   "name": "python3"
  },
  "language_info": {
   "codemirror_mode": {
    "name": "ipython",
    "version": 3
   },
   "file_extension": ".py",
   "mimetype": "text/x-python",
   "name": "python",
   "nbconvert_exporter": "python",
   "pygments_lexer": "ipython3",
   "version": "3.6.8"
  }
 },
 "nbformat": 4,
 "nbformat_minor": 2
}
