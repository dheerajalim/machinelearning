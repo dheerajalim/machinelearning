{
 "cells": [
  {
   "cell_type": "code",
   "execution_count": 1,
   "metadata": {},
   "outputs": [],
   "source": [
    "import numpy as np\n",
    "import math"
   ]
  },
  {
   "cell_type": "markdown",
   "metadata": {},
   "source": [
    "#### Reading training dataset"
   ]
  },
  {
   "cell_type": "code",
   "execution_count": 2,
   "metadata": {},
   "outputs": [],
   "source": [
    "\n",
    "train_dataset  = np.genfromtxt('trainingData_classification.csv', delimiter = ',')"
   ]
  },
  {
   "cell_type": "markdown",
   "metadata": {},
   "source": [
    "#### Creating Training Dataset"
   ]
  },
  {
   "cell_type": "code",
   "execution_count": 3,
   "metadata": {},
   "outputs": [],
   "source": [
    "# Creates all the features of the training dataset\n",
    "# Removing the class column from the training dataset\n",
    "train_data  = np.delete(train_dataset,10,axis = 1)"
   ]
  },
  {
   "cell_type": "code",
   "execution_count": 4,
   "metadata": {},
   "outputs": [],
   "source": [
    "# Numpy array to store the class of training dataset\n",
    "train_class = train_dataset[:,10]"
   ]
  },
  {
   "cell_type": "code",
   "execution_count": 5,
   "metadata": {},
   "outputs": [
    {
     "data": {
      "text/plain": [
       "array([2., 0., 2., ..., 2., 1., 2.])"
      ]
     },
     "execution_count": 5,
     "metadata": {},
     "output_type": "execute_result"
    }
   ],
   "source": [
    "train_class"
   ]
  },
  {
   "cell_type": "markdown",
   "metadata": {},
   "source": [
    "#### Reading Test Dataset"
   ]
  },
  {
   "cell_type": "code",
   "execution_count": 6,
   "metadata": {},
   "outputs": [],
   "source": [
    "test_dataset  = np.genfromtxt('testData_classification.csv', delimiter = ',')"
   ]
  },
  {
   "cell_type": "markdown",
   "metadata": {},
   "source": [
    "#### Creating test dataset"
   ]
  },
  {
   "cell_type": "code",
   "execution_count": 7,
   "metadata": {},
   "outputs": [],
   "source": [
    "# Creates all the features of the test dataset\n",
    "# Removing the class column from the test dataset\n",
    "test_data  = np.delete(test_dataset,10,axis = 1)"
   ]
  },
  {
   "cell_type": "code",
   "execution_count": 8,
   "metadata": {},
   "outputs": [],
   "source": [
    "# Numpy array to store the class of test dataset\n",
    "test_class = test_dataset[:,10]"
   ]
  },
  {
   "cell_type": "code",
   "execution_count": null,
   "metadata": {},
   "outputs": [],
   "source": []
  },
  {
   "cell_type": "markdown",
   "metadata": {},
   "source": [
    "1. Now we have train_data with 10 columns all of them are features and test_data with 10 columns all of which are features.\n",
    "\n",
    "2. We have train_class which has all the classes of train_data and test_class which has all the classes of test_data"
   ]
  },
  {
   "cell_type": "markdown",
   "metadata": {},
   "source": [
    "Now lets defined the function to calculate the euclidiean distance between the features of the test data and the train data"
   ]
  },
  {
   "cell_type": "code",
   "execution_count": 9,
   "metadata": {},
   "outputs": [],
   "source": [
    "'''\n",
    "This function should take the list of all feature training data from the train_data and also the features\n",
    "of the single query instance from the test_data\n",
    "\n",
    "Input Paramenters: \n",
    "\n",
    "arg 1 : a single NumPy 2D array containing all the feature training data\n",
    "arg 2: a 1D NumPy array, containing a single query instance\n",
    "'''\n",
    "\n",
    "def calculateDistances(feature_list, query_instance):\n",
    "    \n",
    "    feature_difference = feature_list-query_instance[:,None]\n",
    "    euclidena_distance = np.sqrt(np.sum(np.square(feature_difference),axis=2))\n",
    "    sorted_distance_index = np.argsort(euclidena_distance)\n",
    "    return euclidena_distance,sorted_distance_index"
   ]
  },
  {
   "cell_type": "code",
   "execution_count": null,
   "metadata": {},
   "outputs": [],
   "source": []
  },
  {
   "cell_type": "code",
   "execution_count": 10,
   "metadata": {},
   "outputs": [],
   "source": [
    "distance , sorted_indicies = calculateDistances(train_data,test_data)"
   ]
  },
  {
   "cell_type": "code",
   "execution_count": 17,
   "metadata": {},
   "outputs": [
    {
     "data": {
      "text/plain": [
       "(1000, 4000)"
      ]
     },
     "execution_count": 17,
     "metadata": {},
     "output_type": "execute_result"
    }
   ],
   "source": [
    "distance.shape"
   ]
  },
  {
   "cell_type": "markdown",
   "metadata": {},
   "source": [
    "#### Calculating the percentage of correct predictions"
   ]
  },
  {
   "cell_type": "code",
   "execution_count": 18,
   "metadata": {},
   "outputs": [
    {
     "name": "stdout",
     "output_type": "stream",
     "text": [
      "The model has an accuracy of 89.5 %\n"
     ]
    }
   ],
   "source": [
    "# Contains all the indicies representing the minimum euclidena distance\n",
    "minimum_dist = sorted_indicies[:,0]\n",
    "\n",
    "# Numpy array to store the classes predicted for the test data\n",
    "prediction = train_class[minimum_dist]\n",
    "\n",
    "# Calculating the count of correct predictions\n",
    "correct_prediction = np.count_nonzero(test_class == prediction)\n",
    "\n",
    "# The percentage of correct prediction\n",
    "percentage =( correct_prediction/len(test_dataset) ) *100\n",
    "\n",
    "print(f'The model has an accuracy of {percentage} %')"
   ]
  },
  {
   "cell_type": "code",
   "execution_count": null,
   "metadata": {},
   "outputs": [],
   "source": []
  },
  {
   "cell_type": "markdown",
   "metadata": {},
   "source": [
    "### Approach 2"
   ]
  },
  {
   "cell_type": "code",
   "execution_count": 145,
   "metadata": {},
   "outputs": [],
   "source": [
    "'''\n",
    "This function should take the list of all feature training data from the train_data and also the features\n",
    "of the single query instance from the test_data\n",
    "\n",
    "Input Paramenters: \n",
    "\n",
    "arg 1 : a single NumPy 2D array containing all the feature training data\n",
    "arg 2: a 1D NumPy array, containing a single query instance\n",
    "'''\n",
    "\n",
    "def calculateDistances(query_instance, feature_list):\n",
    "    feature_difference = feature_list - query_instance\n",
    "    euclidena_distance = np.sqrt(np.sum(np.square(feature_difference),axis=1))\n",
    "    sorted_distance_index = np.argsort(euclidena_distance)\n",
    "    return euclidena_distance, sorted_distance_index"
   ]
  },
  {
   "cell_type": "code",
   "execution_count": 146,
   "metadata": {},
   "outputs": [],
   "source": [
    "results = np.apply_along_axis(calculateDistances,1, test_data,train_data)"
   ]
  },
  {
   "cell_type": "code",
   "execution_count": 147,
   "metadata": {},
   "outputs": [],
   "source": [
    "sorted_indicies = results[:,1].astype('int32') "
   ]
  },
  {
   "cell_type": "code",
   "execution_count": 148,
   "metadata": {},
   "outputs": [
    {
     "name": "stdout",
     "output_type": "stream",
     "text": [
      "The model has an accuracy of 89.5 %\n"
     ]
    }
   ],
   "source": [
    "# Contains all the indicies representing the minimum euclidena distance\n",
    "minimum_dist = sorted_indicies[:,0]\n",
    "\n",
    "# Numpy array to store the classes predicted for the test data\n",
    "prediction = train_class[minimum_dist]\n",
    "\n",
    "# Calculating the count of correct predictions\n",
    "correct_prediction = np.count_nonzero(test_class == prediction)\n",
    "\n",
    "# The percentage of correct prediction\n",
    "percentage =( correct_prediction/len(test_dataset) ) *100\n",
    "\n",
    "print(f'The model has an accuracy of {percentage} %')"
   ]
  },
  {
   "cell_type": "code",
   "execution_count": null,
   "metadata": {},
   "outputs": [],
   "source": []
  },
  {
   "cell_type": "markdown",
   "metadata": {},
   "source": [
    "#### With Varying K value"
   ]
  },
  {
   "cell_type": "code",
   "execution_count": 12,
   "metadata": {},
   "outputs": [
    {
     "name": "stdout",
     "output_type": "stream",
     "text": [
      "3\n"
     ]
    }
   ],
   "source": [
    "k = int(input())"
   ]
  },
  {
   "cell_type": "code",
   "execution_count": 13,
   "metadata": {},
   "outputs": [],
   "source": [
    "def knn_vote(prediction):\n",
    "    return np.bincount(prediction).argmax()"
   ]
  },
  {
   "cell_type": "code",
   "execution_count": 14,
   "metadata": {},
   "outputs": [
    {
     "name": "stdout",
     "output_type": "stream",
     "text": [
      "The model has an accuracy of 91.0 %\n"
     ]
    }
   ],
   "source": [
    "# Contains all the indicies representing the minimum euclidena distance\n",
    "minimum_dist = sorted_indicies[:,:k]\n",
    "\n",
    "# Numpy array to store the classes predicted for the test data\n",
    "prediction = train_class[minimum_dist].astype('int32') \n",
    "\n",
    "# Finding the mode of the classes in K neighbours\n",
    "find_res = np.apply_along_axis(knn_vote,1, prediction)\n",
    "\n",
    "# Calculating the count of correct predictions\n",
    "correct_prediction = np.count_nonzero(test_class == find_res)\n",
    "\n",
    "# The percentage of correct prediction\n",
    "percentage =( correct_prediction/len(test_dataset) ) *100\n",
    "\n",
    "print(f'The model has an accuracy of {percentage} %')"
   ]
  },
  {
   "cell_type": "code",
   "execution_count": null,
   "metadata": {},
   "outputs": [],
   "source": []
  },
  {
   "cell_type": "code",
   "execution_count": null,
   "metadata": {},
   "outputs": [],
   "source": []
  },
  {
   "cell_type": "code",
   "execution_count": 141,
   "metadata": {},
   "outputs": [],
   "source": []
  },
  {
   "cell_type": "code",
   "execution_count": 153,
   "metadata": {},
   "outputs": [],
   "source": []
  },
  {
   "cell_type": "code",
   "execution_count": 154,
   "metadata": {},
   "outputs": [],
   "source": []
  },
  {
   "cell_type": "code",
   "execution_count": null,
   "metadata": {},
   "outputs": [],
   "source": []
  },
  {
   "cell_type": "code",
   "execution_count": null,
   "metadata": {},
   "outputs": [],
   "source": []
  },
  {
   "cell_type": "code",
   "execution_count": null,
   "metadata": {},
   "outputs": [],
   "source": []
  },
  {
   "cell_type": "code",
   "execution_count": null,
   "metadata": {},
   "outputs": [],
   "source": []
  },
  {
   "cell_type": "markdown",
   "metadata": {},
   "source": [
    "### Practices"
   ]
  },
  {
   "cell_type": "code",
   "execution_count": 377,
   "metadata": {},
   "outputs": [],
   "source": [
    "feature_list = train_data\n",
    "query_instance = test_data[0,:]"
   ]
  },
  {
   "cell_type": "code",
   "execution_count": 379,
   "metadata": {},
   "outputs": [
    {
     "data": {
      "text/plain": [
       "(10,)"
      ]
     },
     "execution_count": 379,
     "metadata": {},
     "output_type": "execute_result"
    }
   ],
   "source": [
    "query_instance.shape"
   ]
  },
  {
   "cell_type": "code",
   "execution_count": null,
   "metadata": {},
   "outputs": [],
   "source": []
  },
  {
   "cell_type": "code",
   "execution_count": 52,
   "metadata": {},
   "outputs": [
    {
     "data": {
      "text/plain": [
       "array([0.45730647, 0.40561773, 0.43496813, ..., 0.32210837, 0.46737854,\n",
       "       0.86729724])"
      ]
     },
     "execution_count": 52,
     "metadata": {},
     "output_type": "execute_result"
    }
   ],
   "source": [
    "calculateDistances(feature_list,query_instance)"
   ]
  },
  {
   "cell_type": "code",
   "execution_count": null,
   "metadata": {},
   "outputs": [],
   "source": []
  },
  {
   "cell_type": "code",
   "execution_count": 27,
   "metadata": {},
   "outputs": [],
   "source": [
    "query_instance = test_data"
   ]
  },
  {
   "cell_type": "code",
   "execution_count": 28,
   "metadata": {},
   "outputs": [
    {
     "data": {
      "text/plain": [
       "array([[0.54131721, 0.52305685, 0.42921551, ..., 0.37434461, 0.52591475,\n",
       "        0.36184407],\n",
       "       [0.53091097, 0.3000469 , 0.39346106, ..., 0.29261769, 0.3806552 ,\n",
       "        0.33904193],\n",
       "       [0.29331853, 0.44518117, 0.41390863, ..., 0.2510257 , 0.50481932,\n",
       "        0.43607184],\n",
       "       ...,\n",
       "       [0.6123325 , 0.53096305, 0.44993697, ..., 0.49420631, 0.42408399,\n",
       "        0.49770085],\n",
       "       [0.58123698, 0.40641692, 0.44801209, ..., 0.37437079, 0.39057652,\n",
       "        0.32998854],\n",
       "       [0.64804457, 0.60038784, 0.5537455 , ..., 0.37413601, 0.4213437 ,\n",
       "        0.49818765]])"
      ]
     },
     "execution_count": 28,
     "metadata": {},
     "output_type": "execute_result"
    }
   ],
   "source": [
    "query_instance"
   ]
  },
  {
   "cell_type": "code",
   "execution_count": null,
   "metadata": {},
   "outputs": [],
   "source": []
  },
  {
   "cell_type": "markdown",
   "metadata": {},
   "source": [
    "Test"
   ]
  },
  {
   "cell_type": "code",
   "execution_count": 39,
   "metadata": {},
   "outputs": [],
   "source": [
    "feature_list = train_data\n",
    "query_instance = test_data"
   ]
  },
  {
   "cell_type": "code",
   "execution_count": 40,
   "metadata": {},
   "outputs": [],
   "source": [
    "a = feature_list-query_instance[:,None]"
   ]
  },
  {
   "cell_type": "code",
   "execution_count": 41,
   "metadata": {},
   "outputs": [],
   "source": [
    "c = np.square(a)\n"
   ]
  },
  {
   "cell_type": "code",
   "execution_count": 42,
   "metadata": {},
   "outputs": [
    {
     "data": {
      "text/plain": [
       "array([0.20912921, 0.16452574, 0.18919727, ..., 0.1037538 , 0.2184427 ,\n",
       "       0.7522045 ])"
      ]
     },
     "execution_count": 42,
     "metadata": {},
     "output_type": "execute_result"
    }
   ],
   "source": [
    "np.sum(c[0],axis=1)"
   ]
  },
  {
   "cell_type": "code",
   "execution_count": 43,
   "metadata": {},
   "outputs": [
    {
     "data": {
      "text/plain": [
       "array([[0.20912921, 0.16452574, 0.18919727, ..., 0.1037538 , 0.2184427 ,\n",
       "        0.7522045 ],\n",
       "       [0.29880322, 0.24396892, 0.41996703, ..., 0.1934472 , 0.11705535,\n",
       "        0.53320315],\n",
       "       [0.15415712, 0.33754166, 0.29980071, ..., 0.08634474, 0.28520631,\n",
       "        0.6080568 ],\n",
       "       ...,\n",
       "       [0.33841798, 0.16970812, 0.27589221, ..., 0.28001649, 0.35470612,\n",
       "        0.56462072],\n",
       "       [0.20398977, 0.1628765 , 0.31885819, ..., 0.11442273, 0.09143335,\n",
       "        0.58475387],\n",
       "       [0.10135159, 0.39375866, 0.24928805, ..., 0.16680659, 0.27589442,\n",
       "        0.37247993]])"
      ]
     },
     "execution_count": 43,
     "metadata": {},
     "output_type": "execute_result"
    }
   ],
   "source": [
    "np.sum(c,axis=2)"
   ]
  },
  {
   "cell_type": "code",
   "execution_count": 44,
   "metadata": {},
   "outputs": [],
   "source": [
    "result = np.sqrt(np.sum(c,axis=2))"
   ]
  },
  {
   "cell_type": "code",
   "execution_count": 46,
   "metadata": {},
   "outputs": [
    {
     "data": {
      "text/plain": [
       "array([[0.45730647, 0.40561773, 0.43496813, ..., 0.32210837, 0.46737854,\n",
       "        0.86729724],\n",
       "       [0.54662896, 0.4939321 , 0.64804863, ..., 0.43982632, 0.34213352,\n",
       "        0.73020761],\n",
       "       [0.39262847, 0.58098335, 0.5475406 , ..., 0.29384476, 0.5340471 ,\n",
       "        0.77977997],\n",
       "       ...,\n",
       "       [0.58173703, 0.41195646, 0.52525442, ..., 0.52916584, 0.5955721 ,\n",
       "        0.75141248],\n",
       "       [0.45165227, 0.40357961, 0.5646753 , ..., 0.33826429, 0.30237948,\n",
       "        0.76469201],\n",
       "       [0.31835764, 0.62750192, 0.49928755, ..., 0.40841963, 0.52525653,\n",
       "        0.61031134]])"
      ]
     },
     "execution_count": 46,
     "metadata": {},
     "output_type": "execute_result"
    }
   ],
   "source": [
    "result"
   ]
  },
  {
   "cell_type": "code",
   "execution_count": 327,
   "metadata": {},
   "outputs": [],
   "source": [
    "sorted_distance_index = np.argsort(result)"
   ]
  },
  {
   "cell_type": "code",
   "execution_count": 326,
   "metadata": {},
   "outputs": [
    {
     "data": {
      "text/plain": [
       "array([[ 792, 1037, 1518, ..., 2979,  534, 2068],\n",
       "       [3337, 2946, 3417, ..., 2702, 2979, 2068],\n",
       "       [1378,  836, 3230, ...,  799, 2068, 2979],\n",
       "       ...,\n",
       "       [3659, 1186,  531, ...,  799, 3891, 2068],\n",
       "       [2655, 3191,  466, ...,  534, 2979, 2068],\n",
       "       [3666,  137,   66, ..., 2068, 2023, 1458]], dtype=int64)"
      ]
     },
     "execution_count": 326,
     "metadata": {},
     "output_type": "execute_result"
    }
   ],
   "source": [
    "sorted_distance_index"
   ]
  },
  {
   "cell_type": "code",
   "execution_count": 312,
   "metadata": {},
   "outputs": [],
   "source": [
    "min_dist = sorted_distance_index[:,0]"
   ]
  },
  {
   "cell_type": "code",
   "execution_count": null,
   "metadata": {},
   "outputs": [],
   "source": []
  },
  {
   "cell_type": "code",
   "execution_count": 343,
   "metadata": {},
   "outputs": [],
   "source": [
    "prediction = train_class[min_dist]"
   ]
  },
  {
   "cell_type": "code",
   "execution_count": null,
   "metadata": {},
   "outputs": [],
   "source": []
  },
  {
   "cell_type": "code",
   "execution_count": 351,
   "metadata": {},
   "outputs": [],
   "source": [
    " correct_prediction = np.count_nonzero(test_class == prediction)"
   ]
  },
  {
   "cell_type": "code",
   "execution_count": 352,
   "metadata": {},
   "outputs": [],
   "source": [
    "percentage =( correct_prediction/len(test_dataset) ) *100"
   ]
  },
  {
   "cell_type": "code",
   "execution_count": 353,
   "metadata": {},
   "outputs": [
    {
     "data": {
      "text/plain": [
       "89.5"
      ]
     },
     "execution_count": 353,
     "metadata": {},
     "output_type": "execute_result"
    }
   ],
   "source": [
    "percentage"
   ]
  },
  {
   "cell_type": "code",
   "execution_count": null,
   "metadata": {},
   "outputs": [],
   "source": []
  },
  {
   "cell_type": "code",
   "execution_count": null,
   "metadata": {},
   "outputs": [],
   "source": []
  },
  {
   "cell_type": "code",
   "execution_count": null,
   "metadata": {},
   "outputs": [],
   "source": []
  },
  {
   "cell_type": "code",
   "execution_count": null,
   "metadata": {},
   "outputs": [],
   "source": [
    "train_class[sorted_distance_index[0]]"
   ]
  },
  {
   "cell_type": "markdown",
   "metadata": {},
   "source": [
    "#### Below Test"
   ]
  },
  {
   "cell_type": "code",
   "execution_count": 235,
   "metadata": {},
   "outputs": [],
   "source": [
    "feature_list = train_data\n",
    "query_instance = test_data[0,:]"
   ]
  },
  {
   "cell_type": "code",
   "execution_count": null,
   "metadata": {},
   "outputs": [],
   "source": []
  },
  {
   "cell_type": "code",
   "execution_count": 236,
   "metadata": {},
   "outputs": [],
   "source": [
    "b = feature_list-query_instance"
   ]
  },
  {
   "cell_type": "code",
   "execution_count": 237,
   "metadata": {},
   "outputs": [
    {
     "data": {
      "text/plain": [
       "array([[1.25144630e-04, 1.06918753e-02, 2.57078215e-04, ...,\n",
       "        1.13718236e-03, 4.32666755e-03, 6.17490931e-02],\n",
       "       [1.16593096e-02, 3.89782418e-03, 1.96458697e-02, ...,\n",
       "        7.33249971e-02, 3.79770405e-02, 1.05827566e-05],\n",
       "       [4.55315599e-03, 4.05873069e-02, 2.65996234e-02, ...,\n",
       "        2.00470216e-04, 1.18935135e-02, 4.42758242e-02],\n",
       "       ...,\n",
       "       [1.08333666e-02, 1.50699642e-03, 1.89433515e-02, ...,\n",
       "        2.48130922e-05, 1.16052319e-03, 1.66500658e-02],\n",
       "       [6.83581150e-03, 2.81449245e-02, 4.20503465e-03, ...,\n",
       "        7.82855734e-03, 1.09421999e-02, 1.04024784e-02],\n",
       "       [2.68561149e-02, 1.57007506e-02, 9.10919777e-03, ...,\n",
       "        2.59652558e-02, 2.12821774e-02, 2.28917353e-03]])"
      ]
     },
     "execution_count": 237,
     "metadata": {},
     "output_type": "execute_result"
    }
   ],
   "source": [
    "np.square(b)"
   ]
  },
  {
   "cell_type": "code",
   "execution_count": null,
   "metadata": {},
   "outputs": [],
   "source": []
  },
  {
   "cell_type": "code",
   "execution_count": null,
   "metadata": {},
   "outputs": [],
   "source": []
  },
  {
   "cell_type": "code",
   "execution_count": null,
   "metadata": {},
   "outputs": [],
   "source": []
  },
  {
   "cell_type": "code",
   "execution_count": 242,
   "metadata": {},
   "outputs": [
    {
     "data": {
      "text/plain": [
       "array([0.20912921, 0.16452574, 0.18919727, ..., 0.1037538 , 0.2184427 ,\n",
       "       0.7522045 ])"
      ]
     },
     "execution_count": 242,
     "metadata": {},
     "output_type": "execute_result"
    }
   ],
   "source": [
    "z =np.sum(np.square(b),axis=1)\n",
    "z"
   ]
  },
  {
   "cell_type": "code",
   "execution_count": 244,
   "metadata": {},
   "outputs": [
    {
     "data": {
      "text/plain": [
       "array([0.45730647, 0.40561773, 0.43496813, ..., 0.32210837, 0.46737854,\n",
       "       0.86729724])"
      ]
     },
     "execution_count": 244,
     "metadata": {},
     "output_type": "execute_result"
    }
   ],
   "source": [
    "np.sqrt(z)"
   ]
  },
  {
   "cell_type": "code",
   "execution_count": null,
   "metadata": {},
   "outputs": [],
   "source": []
  },
  {
   "cell_type": "code",
   "execution_count": null,
   "metadata": {},
   "outputs": [],
   "source": []
  },
  {
   "cell_type": "code",
   "execution_count": 153,
   "metadata": {},
   "outputs": [],
   "source": [
    "# x  =np.equal(c[0],z)"
   ]
  },
  {
   "cell_type": "code",
   "execution_count": null,
   "metadata": {},
   "outputs": [],
   "source": [
    "# for i in range(0,len(x)):\n",
    "#     if not all(x[i]):\n",
    "#         print('fuck')"
   ]
  },
  {
   "cell_type": "code",
   "execution_count": null,
   "metadata": {},
   "outputs": [],
   "source": []
  },
  {
   "cell_type": "code",
   "execution_count": null,
   "metadata": {},
   "outputs": [],
   "source": []
  },
  {
   "cell_type": "code",
   "execution_count": null,
   "metadata": {},
   "outputs": [],
   "source": []
  },
  {
   "cell_type": "code",
   "execution_count": null,
   "metadata": {},
   "outputs": [],
   "source": []
  },
  {
   "cell_type": "code",
   "execution_count": null,
   "metadata": {},
   "outputs": [],
   "source": []
  },
  {
   "cell_type": "markdown",
   "metadata": {},
   "source": [
    "Working"
   ]
  },
  {
   "cell_type": "code",
   "execution_count": 274,
   "metadata": {},
   "outputs": [],
   "source": [
    "feature_list = train_data"
   ]
  },
  {
   "cell_type": "code",
   "execution_count": 284,
   "metadata": {},
   "outputs": [],
   "source": [
    "query_instance = test_data[0,:]\n",
    "# query_instance = test_data"
   ]
  },
  {
   "cell_type": "code",
   "execution_count": 285,
   "metadata": {},
   "outputs": [],
   "source": [
    "# Calculates euclidena distance\n",
    "check = np.sqrt(np.sum(np.square(feature_list-query_instance),axis=1))"
   ]
  },
  {
   "cell_type": "code",
   "execution_count": 286,
   "metadata": {},
   "outputs": [
    {
     "data": {
      "text/plain": [
       "(4000,)"
      ]
     },
     "execution_count": 286,
     "metadata": {},
     "output_type": "execute_result"
    }
   ],
   "source": [
    "check.shape"
   ]
  },
  {
   "cell_type": "code",
   "execution_count": 337,
   "metadata": {},
   "outputs": [
    {
     "data": {
      "text/plain": [
       "array([0.45730647, 0.40561773, 0.43496813, ..., 0.32210837, 0.46737854,\n",
       "       0.86729724])"
      ]
     },
     "execution_count": 337,
     "metadata": {},
     "output_type": "execute_result"
    }
   ],
   "source": [
    "check"
   ]
  },
  {
   "cell_type": "code",
   "execution_count": 302,
   "metadata": {},
   "outputs": [
    {
     "data": {
      "text/plain": [
       "array([ 792, 1037, 1518, ..., 2979,  534, 2068], dtype=int64)"
      ]
     },
     "execution_count": 302,
     "metadata": {},
     "output_type": "execute_result"
    }
   ],
   "source": [
    "# Returns the numpy array with the indicies sorted in ascending order\n",
    "# The first value shws that the minimum distance is at index location 792\n",
    "sorted_distance_index = np.argsort(check)\n",
    "sorted_distance_index"
   ]
  },
  {
   "cell_type": "code",
   "execution_count": 290,
   "metadata": {},
   "outputs": [
    {
     "data": {
      "text/plain": [
       "0.0"
      ]
     },
     "execution_count": 290,
     "metadata": {},
     "output_type": "execute_result"
    }
   ],
   "source": [
    "# On finding the class which is at the same location, we will get the class of the test data\n",
    "train_class[sorted_distance_index[0]]"
   ]
  },
  {
   "cell_type": "code",
   "execution_count": null,
   "metadata": {},
   "outputs": [],
   "source": []
  },
  {
   "cell_type": "code",
   "execution_count": null,
   "metadata": {},
   "outputs": [],
   "source": []
  },
  {
   "cell_type": "code",
   "execution_count": null,
   "metadata": {},
   "outputs": [],
   "source": []
  },
  {
   "cell_type": "code",
   "execution_count": null,
   "metadata": {},
   "outputs": [],
   "source": []
  },
  {
   "cell_type": "code",
   "execution_count": 8,
   "metadata": {},
   "outputs": [],
   "source": [
    "# Initializing the value of K \n",
    "\n",
    "K =1"
   ]
  },
  {
   "cell_type": "code",
   "execution_count": 11,
   "metadata": {},
   "outputs": [],
   "source": []
  },
  {
   "cell_type": "code",
   "execution_count": 12,
   "metadata": {},
   "outputs": [
    {
     "data": {
      "text/plain": [
       "array([[0.54131721, 0.52305685, 0.42921551, ..., 0.52591475, 0.36184407,\n",
       "        0.        ],\n",
       "       [0.53091097, 0.3000469 , 0.39346106, ..., 0.3806552 , 0.33904193,\n",
       "        0.        ],\n",
       "       [0.29331853, 0.44518117, 0.41390863, ..., 0.50481932, 0.43607184,\n",
       "        2.        ],\n",
       "       ...,\n",
       "       [0.6123325 , 0.53096305, 0.44993697, ..., 0.42408399, 0.49770085,\n",
       "        0.        ],\n",
       "       [0.58123698, 0.40641692, 0.44801209, ..., 0.39057652, 0.32998854,\n",
       "        0.        ],\n",
       "       [0.64804457, 0.60038784, 0.5537455 , ..., 0.4213437 , 0.49818765,\n",
       "        1.        ]])"
      ]
     },
     "execution_count": 12,
     "metadata": {},
     "output_type": "execute_result"
    }
   ],
   "source": [
    "data"
   ]
  },
  {
   "cell_type": "code",
   "execution_count": null,
   "metadata": {},
   "outputs": [],
   "source": []
  },
  {
   "cell_type": "code",
   "execution_count": 184,
   "metadata": {},
   "outputs": [],
   "source": [
    "a = np.empty"
   ]
  },
  {
   "cell_type": "code",
   "execution_count": 178,
   "metadata": {},
   "outputs": [
    {
     "data": {
      "text/plain": [
       "builtin_function_or_method"
      ]
     },
     "execution_count": 178,
     "metadata": {},
     "output_type": "execute_result"
    }
   ],
   "source": [
    "type(a)"
   ]
  },
  {
   "cell_type": "code",
   "execution_count": 180,
   "metadata": {},
   "outputs": [],
   "source": [
    "a = train_class"
   ]
  },
  {
   "cell_type": "code",
   "execution_count": 181,
   "metadata": {},
   "outputs": [
    {
     "data": {
      "text/plain": [
       "array([2., 0., 2., ..., 2., 1., 2.])"
      ]
     },
     "execution_count": 181,
     "metadata": {},
     "output_type": "execute_result"
    }
   ],
   "source": [
    "a"
   ]
  },
  {
   "cell_type": "code",
   "execution_count": 182,
   "metadata": {},
   "outputs": [
    {
     "data": {
      "text/plain": [
       "numpy.ndarray"
      ]
     },
     "execution_count": 182,
     "metadata": {},
     "output_type": "execute_result"
    }
   ],
   "source": [
    "type(a)"
   ]
  },
  {
   "cell_type": "code",
   "execution_count": null,
   "metadata": {},
   "outputs": [],
   "source": []
  }
 ],
 "metadata": {
  "kernelspec": {
   "display_name": "Python 3",
   "language": "python",
   "name": "python3"
  },
  "language_info": {
   "codemirror_mode": {
    "name": "ipython",
    "version": 3
   },
   "file_extension": ".py",
   "mimetype": "text/x-python",
   "name": "python",
   "nbconvert_exporter": "python",
   "pygments_lexer": "ipython3",
   "version": "3.6.8"
  }
 },
 "nbformat": 4,
 "nbformat_minor": 2
}
